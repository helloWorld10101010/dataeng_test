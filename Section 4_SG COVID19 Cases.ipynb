{
 "cells": [
  {
   "cell_type": "code",
   "execution_count": 1,
   "metadata": {},
   "outputs": [],
   "source": [
    "import requests"
   ]
  },
  {
   "cell_type": "markdown",
   "metadata": {},
   "source": [
    "### Singapore Covid Cases"
   ]
  },
  {
   "cell_type": "code",
   "execution_count": 2,
   "metadata": {},
   "outputs": [],
   "source": [
    "SG_Covid19 = requests.get(\n",
    "        \"https://api.covid19api.com/country/Singapore/status/confirmed\"\n",
    ")"
   ]
  },
  {
   "cell_type": "code",
   "execution_count": 3,
   "metadata": {},
   "outputs": [],
   "source": [
    "SG_Cases = SG_Covid19.json()"
   ]
  },
  {
   "cell_type": "markdown",
   "metadata": {},
   "source": [
    "### Create DataFrame to store SG Cases"
   ]
  },
  {
   "cell_type": "code",
   "execution_count": 5,
   "metadata": {},
   "outputs": [],
   "source": [
    "import pandas as pd"
   ]
  },
  {
   "cell_type": "code",
   "execution_count": 6,
   "metadata": {},
   "outputs": [],
   "source": [
    "SG_Cases_df = pd.DataFrame(SG_Cases)"
   ]
  },
  {
   "cell_type": "code",
   "execution_count": 7,
   "metadata": {},
   "outputs": [
    {
     "data": {
      "text/html": [
       "<div>\n",
       "<style scoped>\n",
       "    .dataframe tbody tr th:only-of-type {\n",
       "        vertical-align: middle;\n",
       "    }\n",
       "\n",
       "    .dataframe tbody tr th {\n",
       "        vertical-align: top;\n",
       "    }\n",
       "\n",
       "    .dataframe thead th {\n",
       "        text-align: right;\n",
       "    }\n",
       "</style>\n",
       "<table border=\"1\" class=\"dataframe\">\n",
       "  <thead>\n",
       "    <tr style=\"text-align: right;\">\n",
       "      <th></th>\n",
       "      <th>Country</th>\n",
       "      <th>CountryCode</th>\n",
       "      <th>Province</th>\n",
       "      <th>City</th>\n",
       "      <th>CityCode</th>\n",
       "      <th>Lat</th>\n",
       "      <th>Lon</th>\n",
       "      <th>Cases</th>\n",
       "      <th>Status</th>\n",
       "      <th>Date</th>\n",
       "    </tr>\n",
       "  </thead>\n",
       "  <tbody>\n",
       "    <tr>\n",
       "      <td>0</td>\n",
       "      <td>Singapore</td>\n",
       "      <td>SG</td>\n",
       "      <td></td>\n",
       "      <td></td>\n",
       "      <td></td>\n",
       "      <td>1.35</td>\n",
       "      <td>103.82</td>\n",
       "      <td>0</td>\n",
       "      <td>confirmed</td>\n",
       "      <td>2020-01-22T00:00:00Z</td>\n",
       "    </tr>\n",
       "    <tr>\n",
       "      <td>1</td>\n",
       "      <td>Singapore</td>\n",
       "      <td>SG</td>\n",
       "      <td></td>\n",
       "      <td></td>\n",
       "      <td></td>\n",
       "      <td>1.35</td>\n",
       "      <td>103.82</td>\n",
       "      <td>1</td>\n",
       "      <td>confirmed</td>\n",
       "      <td>2020-01-23T00:00:00Z</td>\n",
       "    </tr>\n",
       "    <tr>\n",
       "      <td>2</td>\n",
       "      <td>Singapore</td>\n",
       "      <td>SG</td>\n",
       "      <td></td>\n",
       "      <td></td>\n",
       "      <td></td>\n",
       "      <td>1.35</td>\n",
       "      <td>103.82</td>\n",
       "      <td>3</td>\n",
       "      <td>confirmed</td>\n",
       "      <td>2020-01-24T00:00:00Z</td>\n",
       "    </tr>\n",
       "    <tr>\n",
       "      <td>3</td>\n",
       "      <td>Singapore</td>\n",
       "      <td>SG</td>\n",
       "      <td></td>\n",
       "      <td></td>\n",
       "      <td></td>\n",
       "      <td>1.35</td>\n",
       "      <td>103.82</td>\n",
       "      <td>3</td>\n",
       "      <td>confirmed</td>\n",
       "      <td>2020-01-25T00:00:00Z</td>\n",
       "    </tr>\n",
       "    <tr>\n",
       "      <td>4</td>\n",
       "      <td>Singapore</td>\n",
       "      <td>SG</td>\n",
       "      <td></td>\n",
       "      <td></td>\n",
       "      <td></td>\n",
       "      <td>1.35</td>\n",
       "      <td>103.82</td>\n",
       "      <td>4</td>\n",
       "      <td>confirmed</td>\n",
       "      <td>2020-01-26T00:00:00Z</td>\n",
       "    </tr>\n",
       "    <tr>\n",
       "      <td>...</td>\n",
       "      <td>...</td>\n",
       "      <td>...</td>\n",
       "      <td>...</td>\n",
       "      <td>...</td>\n",
       "      <td>...</td>\n",
       "      <td>...</td>\n",
       "      <td>...</td>\n",
       "      <td>...</td>\n",
       "      <td>...</td>\n",
       "      <td>...</td>\n",
       "    </tr>\n",
       "    <tr>\n",
       "      <td>608</td>\n",
       "      <td>Singapore</td>\n",
       "      <td>SG</td>\n",
       "      <td></td>\n",
       "      <td></td>\n",
       "      <td></td>\n",
       "      <td>1.35</td>\n",
       "      <td>103.82</td>\n",
       "      <td>79899</td>\n",
       "      <td>confirmed</td>\n",
       "      <td>2021-09-21T00:00:00Z</td>\n",
       "    </tr>\n",
       "    <tr>\n",
       "      <td>609</td>\n",
       "      <td>Singapore</td>\n",
       "      <td>SG</td>\n",
       "      <td></td>\n",
       "      <td></td>\n",
       "      <td></td>\n",
       "      <td>1.35</td>\n",
       "      <td>103.82</td>\n",
       "      <td>81356</td>\n",
       "      <td>confirmed</td>\n",
       "      <td>2021-09-22T00:00:00Z</td>\n",
       "    </tr>\n",
       "    <tr>\n",
       "      <td>610</td>\n",
       "      <td>Singapore</td>\n",
       "      <td>SG</td>\n",
       "      <td></td>\n",
       "      <td></td>\n",
       "      <td></td>\n",
       "      <td>1.35</td>\n",
       "      <td>103.82</td>\n",
       "      <td>82860</td>\n",
       "      <td>confirmed</td>\n",
       "      <td>2021-09-23T00:00:00Z</td>\n",
       "    </tr>\n",
       "    <tr>\n",
       "      <td>611</td>\n",
       "      <td>Singapore</td>\n",
       "      <td>SG</td>\n",
       "      <td></td>\n",
       "      <td></td>\n",
       "      <td></td>\n",
       "      <td>1.35</td>\n",
       "      <td>103.82</td>\n",
       "      <td>84510</td>\n",
       "      <td>confirmed</td>\n",
       "      <td>2021-09-24T00:00:00Z</td>\n",
       "    </tr>\n",
       "    <tr>\n",
       "      <td>612</td>\n",
       "      <td>Singapore</td>\n",
       "      <td>SG</td>\n",
       "      <td></td>\n",
       "      <td></td>\n",
       "      <td></td>\n",
       "      <td>1.35</td>\n",
       "      <td>103.82</td>\n",
       "      <td>84510</td>\n",
       "      <td>confirmed</td>\n",
       "      <td>2021-09-25T00:00:00Z</td>\n",
       "    </tr>\n",
       "  </tbody>\n",
       "</table>\n",
       "<p>613 rows × 10 columns</p>\n",
       "</div>"
      ],
      "text/plain": [
       "       Country CountryCode Province City CityCode   Lat     Lon  Cases  \\\n",
       "0    Singapore          SG                         1.35  103.82      0   \n",
       "1    Singapore          SG                         1.35  103.82      1   \n",
       "2    Singapore          SG                         1.35  103.82      3   \n",
       "3    Singapore          SG                         1.35  103.82      3   \n",
       "4    Singapore          SG                         1.35  103.82      4   \n",
       "..         ...         ...      ...  ...      ...   ...     ...    ...   \n",
       "608  Singapore          SG                         1.35  103.82  79899   \n",
       "609  Singapore          SG                         1.35  103.82  81356   \n",
       "610  Singapore          SG                         1.35  103.82  82860   \n",
       "611  Singapore          SG                         1.35  103.82  84510   \n",
       "612  Singapore          SG                         1.35  103.82  84510   \n",
       "\n",
       "        Status                  Date  \n",
       "0    confirmed  2020-01-22T00:00:00Z  \n",
       "1    confirmed  2020-01-23T00:00:00Z  \n",
       "2    confirmed  2020-01-24T00:00:00Z  \n",
       "3    confirmed  2020-01-25T00:00:00Z  \n",
       "4    confirmed  2020-01-26T00:00:00Z  \n",
       "..         ...                   ...  \n",
       "608  confirmed  2021-09-21T00:00:00Z  \n",
       "609  confirmed  2021-09-22T00:00:00Z  \n",
       "610  confirmed  2021-09-23T00:00:00Z  \n",
       "611  confirmed  2021-09-24T00:00:00Z  \n",
       "612  confirmed  2021-09-25T00:00:00Z  \n",
       "\n",
       "[613 rows x 10 columns]"
      ]
     },
     "execution_count": 7,
     "metadata": {},
     "output_type": "execute_result"
    }
   ],
   "source": [
    "SG_Cases_df"
   ]
  },
  {
   "cell_type": "code",
   "execution_count": 9,
   "metadata": {},
   "outputs": [
    {
     "data": {
      "text/plain": [
       "<matplotlib.axes._subplots.AxesSubplot at 0xd586a7c3c8>"
      ]
     },
     "execution_count": 9,
     "metadata": {},
     "output_type": "execute_result"
    },
    {
     "data": {
      "image/png": "[encoded data removed]",
      "text/plain": [
       "<Figure size 1080x432 with 1 Axes>"
      ]
     },
     "metadata": {
      "needs_background": "light"
     },
     "output_type": "display_data"
    }
   ],
   "source": [
    "SG_Cases_df.plot(x=\"Date\", y=\"Cases\", figsize=(15,6))"
   ]
  },
  {
   "cell_type": "markdown",
   "metadata": {},
   "source": [
    "### Format Date to Month"
   ]
  },
  {
   "cell_type": "code",
   "execution_count": 10,
   "metadata": {},
   "outputs": [],
   "source": [
    "from dateutil import parser"
   ]
  },
  {
   "cell_type": "code",
   "execution_count": 11,
   "metadata": {},
   "outputs": [],
   "source": [
    "def get_dateMonth(date):\n",
    "\n",
    "    dateMonth = parser.parse(date)\n",
    "    return dateMonth"
   ]
  },
  {
   "cell_type": "code",
   "execution_count": 17,
   "metadata": {},
   "outputs": [],
   "source": [
    "SG_Cases_df[\"Date\"] = SG_Cases_df[\"Date\"].apply(lambda x: get_dateMonth(x))"
   ]
  },
  {
   "cell_type": "code",
   "execution_count": 19,
   "metadata": {},
   "outputs": [
    {
     "data": {
      "text/plain": [
       "<matplotlib.axes._subplots.AxesSubplot at 0xd585e18888>"
      ]
     },
     "execution_count": 19,
     "metadata": {},
     "output_type": "execute_result"
    },
    {
     "data": {
      "image/png": "[encoded data removed]",
      "text/plain": [
       "<Figure size 1080x432 with 1 Axes>"
      ]
     },
     "metadata": {
      "needs_background": "light"
     },
     "output_type": "display_data"
    }
   ],
   "source": [
    "SG_Cases_df.plot(x=\"Date\", y=\"Cases\", figsize=(15,6))"
   ]
  },
  {
   "cell_type": "markdown",
   "metadata": {},
   "source": [
    "### No. of cases in Singapore over time using the APIs from https://covid19api.com/."
   ]
  },
  {
   "cell_type": "code",
   "execution_count": null,
   "metadata": {},
   "outputs": [],
   "source": []
  }
 ],
 "metadata": {
  "kernelspec": {
   "display_name": "Python 3",
   "language": "python",
   "name": "python3"
  },
  "language_info": {
   "codemirror_mode": {
    "name": "ipython",
    "version": 3
   },
   "file_extension": ".py",
   "mimetype": "text/x-python",
   "name": "python",
   "nbconvert_exporter": "python",
   "pygments_lexer": "ipython3",
   "version": "3.7.4"
  }
 },
 "nbformat": 4,
 "nbformat_minor": 2
}
